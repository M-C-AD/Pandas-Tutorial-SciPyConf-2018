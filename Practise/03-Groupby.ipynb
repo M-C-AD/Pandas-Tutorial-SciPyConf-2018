{
 "cells": [
  {
   "cell_type": "markdown",
   "metadata": {},
   "source": [
    "# The groupby operation"
   ]
  },
  {
   "cell_type": "code",
   "execution_count": 1,
   "metadata": {
    "ExecuteTime": {
     "end_time": "2023-01-04T20:29:17.830281Z",
     "start_time": "2023-01-04T20:28:49.585184Z"
    }
   },
   "outputs": [],
   "source": [
    "import numpy as np\n",
    "import pandas as pd\n",
    "import matplotlib.pyplot as plt"
   ]
  },
  {
   "cell_type": "code",
   "execution_count": 2,
   "metadata": {
    "ExecuteTime": {
     "end_time": "2023-01-04T20:29:17.846233Z",
     "start_time": "2023-01-04T20:29:17.832273Z"
    }
   },
   "outputs": [],
   "source": [
    "%matplotlib inline"
   ]
  },
  {
   "cell_type": "code",
   "execution_count": 3,
   "metadata": {
    "ExecuteTime": {
     "end_time": "2023-01-04T20:29:17.971012Z",
     "start_time": "2023-01-04T20:29:17.853216Z"
    }
   },
   "outputs": [],
   "source": [
    "plt.style.use('default')\n",
    "plt.rcParams['figure.figsize'] = (12, 6)\n",
    "pd.options.display.max_rows = 10"
   ]
  },
  {
   "cell_type": "markdown",
   "metadata": {},
   "source": [
    "I've provided the reviews by the top 100 reviewers.\n",
    "We'll use it for talking about groupby."
   ]
  },
  {
   "cell_type": "code",
   "execution_count": 4,
   "metadata": {
    "ExecuteTime": {
     "end_time": "2023-01-04T20:29:22.364106Z",
     "start_time": "2023-01-04T20:29:20.618110Z"
    }
   },
   "outputs": [
    {
     "data": {
      "text/html": [
       "<div>\n",
       "<style scoped>\n",
       "    .dataframe tbody tr th:only-of-type {\n",
       "        vertical-align: middle;\n",
       "    }\n",
       "\n",
       "    .dataframe tbody tr th {\n",
       "        vertical-align: top;\n",
       "    }\n",
       "\n",
       "    .dataframe thead th {\n",
       "        text-align: right;\n",
       "    }\n",
       "</style>\n",
       "<table border=\"1\" class=\"dataframe\">\n",
       "  <thead>\n",
       "    <tr style=\"text-align: right;\">\n",
       "      <th></th>\n",
       "      <th>abv</th>\n",
       "      <th>beer_id</th>\n",
       "      <th>brewer_id</th>\n",
       "      <th>beer_name</th>\n",
       "      <th>beer_style</th>\n",
       "      <th>review_appearance</th>\n",
       "      <th>review_aroma</th>\n",
       "      <th>review_overall</th>\n",
       "      <th>review_palate</th>\n",
       "      <th>profile_name</th>\n",
       "      <th>review_taste</th>\n",
       "      <th>text</th>\n",
       "      <th>time</th>\n",
       "    </tr>\n",
       "  </thead>\n",
       "  <tbody>\n",
       "    <tr>\n",
       "      <th>0</th>\n",
       "      <td>5.3</td>\n",
       "      <td>93</td>\n",
       "      <td>33</td>\n",
       "      <td>Steel Rail Extra Pale Ale</td>\n",
       "      <td>American Pale Ale (APA)</td>\n",
       "      <td>3.5</td>\n",
       "      <td>3.5</td>\n",
       "      <td>4.0</td>\n",
       "      <td>4.0</td>\n",
       "      <td>Todd</td>\n",
       "      <td>4.0</td>\n",
       "      <td>Presentation: Pint size, on tap from the Easts...</td>\n",
       "      <td>1996-08-22 00:00:01</td>\n",
       "    </tr>\n",
       "    <tr>\n",
       "      <th>1</th>\n",
       "      <td>17.5</td>\n",
       "      <td>111</td>\n",
       "      <td>35</td>\n",
       "      <td>Samuel Adams Triple Bock</td>\n",
       "      <td>American Strong Ale</td>\n",
       "      <td>3.0</td>\n",
       "      <td>4.0</td>\n",
       "      <td>4.0</td>\n",
       "      <td>4.5</td>\n",
       "      <td>Todd</td>\n",
       "      <td>4.5</td>\n",
       "      <td>Presentation: 8.45oz blue bottle with gold let...</td>\n",
       "      <td>1998-01-10 00:00:01</td>\n",
       "    </tr>\n",
       "    <tr>\n",
       "      <th>2</th>\n",
       "      <td>NaN</td>\n",
       "      <td>110</td>\n",
       "      <td>35</td>\n",
       "      <td>Samuel Adams Cream Ale</td>\n",
       "      <td>Cream Ale</td>\n",
       "      <td>4.5</td>\n",
       "      <td>4.0</td>\n",
       "      <td>4.5</td>\n",
       "      <td>4.0</td>\n",
       "      <td>Jason</td>\n",
       "      <td>4.5</td>\n",
       "      <td>Presentation: Pint. On tap at the Samuel Adams...</td>\n",
       "      <td>1998-01-28 00:00:01</td>\n",
       "    </tr>\n",
       "    <tr>\n",
       "      <th>3</th>\n",
       "      <td>5.2</td>\n",
       "      <td>148</td>\n",
       "      <td>45</td>\n",
       "      <td>Brooklyn Lager</td>\n",
       "      <td>American Amber / Red Lager</td>\n",
       "      <td>3.0</td>\n",
       "      <td>2.5</td>\n",
       "      <td>4.0</td>\n",
       "      <td>3.5</td>\n",
       "      <td>Todd</td>\n",
       "      <td>3.5</td>\n",
       "      <td>Presentation: 12 oz. brown bottle with a clear...</td>\n",
       "      <td>1998-02-11 00:00:01</td>\n",
       "    </tr>\n",
       "    <tr>\n",
       "      <th>4</th>\n",
       "      <td>5.6</td>\n",
       "      <td>325</td>\n",
       "      <td>100</td>\n",
       "      <td>McNeill's Firehouse Amber Ale</td>\n",
       "      <td>American Amber / Red Ale</td>\n",
       "      <td>3.5</td>\n",
       "      <td>3.5</td>\n",
       "      <td>4.0</td>\n",
       "      <td>3.5</td>\n",
       "      <td>Todd</td>\n",
       "      <td>4.0</td>\n",
       "      <td>Presentation: An old picture of firehouse with...</td>\n",
       "      <td>1998-02-14 00:00:01</td>\n",
       "    </tr>\n",
       "  </tbody>\n",
       "</table>\n",
       "</div>"
      ],
      "text/plain": [
       "    abv  beer_id  brewer_id                      beer_name  \\\n",
       "0   5.3       93         33      Steel Rail Extra Pale Ale   \n",
       "1  17.5      111         35       Samuel Adams Triple Bock   \n",
       "2   NaN      110         35         Samuel Adams Cream Ale   \n",
       "3   5.2      148         45                 Brooklyn Lager   \n",
       "4   5.6      325        100  McNeill's Firehouse Amber Ale   \n",
       "\n",
       "                   beer_style  review_appearance  review_aroma  \\\n",
       "0     American Pale Ale (APA)                3.5           3.5   \n",
       "1         American Strong Ale                3.0           4.0   \n",
       "2                   Cream Ale                4.5           4.0   \n",
       "3  American Amber / Red Lager                3.0           2.5   \n",
       "4    American Amber / Red Ale                3.5           3.5   \n",
       "\n",
       "   review_overall  review_palate profile_name  review_taste  \\\n",
       "0             4.0            4.0         Todd           4.0   \n",
       "1             4.0            4.5         Todd           4.5   \n",
       "2             4.5            4.0        Jason           4.5   \n",
       "3             4.0            3.5         Todd           3.5   \n",
       "4             4.0            3.5         Todd           4.0   \n",
       "\n",
       "                                                text                time  \n",
       "0  Presentation: Pint size, on tap from the Easts... 1996-08-22 00:00:01  \n",
       "1  Presentation: 8.45oz blue bottle with gold let... 1998-01-10 00:00:01  \n",
       "2  Presentation: Pint. On tap at the Samuel Adams... 1998-01-28 00:00:01  \n",
       "3  Presentation: 12 oz. brown bottle with a clear... 1998-02-11 00:00:01  \n",
       "4  Presentation: An old picture of firehouse with... 1998-02-14 00:00:01  "
      ]
     },
     "execution_count": 4,
     "metadata": {},
     "output_type": "execute_result"
    }
   ],
   "source": [
    "df = pd.read_csv(\"data/subset.csv.gz\", compression=\"gzip\",\n",
    "                 parse_dates=['time'])\n",
    "df.head()"
   ]
  },
  {
   "cell_type": "code",
   "execution_count": 5,
   "metadata": {
    "ExecuteTime": {
     "end_time": "2023-01-04T20:29:34.007349Z",
     "start_time": "2023-01-04T20:29:33.728520Z"
    }
   },
   "outputs": [
    {
     "name": "stdout",
     "output_type": "stream",
     "text": [
      "<class 'pandas.core.frame.DataFrame'>\n",
      "RangeIndex: 76014 entries, 0 to 76013\n",
      "Data columns (total 13 columns):\n",
      " #   Column             Non-Null Count  Dtype         \n",
      "---  ------             --------------  -----         \n",
      " 0   abv                68126 non-null  float64       \n",
      " 1   beer_id            76014 non-null  int64         \n",
      " 2   brewer_id          76014 non-null  int64         \n",
      " 3   beer_name          76014 non-null  object        \n",
      " 4   beer_style         76014 non-null  object        \n",
      " 5   review_appearance  76014 non-null  float64       \n",
      " 6   review_aroma       76014 non-null  float64       \n",
      " 7   review_overall     76014 non-null  float64       \n",
      " 8   review_palate      76014 non-null  float64       \n",
      " 9   profile_name       76014 non-null  object        \n",
      " 10  review_taste       76014 non-null  float64       \n",
      " 11  text               76014 non-null  object        \n",
      " 12  time               76014 non-null  datetime64[ns]\n",
      "dtypes: datetime64[ns](1), float64(6), int64(2), object(4)\n",
      "memory usage: 7.5+ MB\n"
     ]
    }
   ],
   "source": [
    "df.info()"
   ]
  },
  {
   "cell_type": "markdown",
   "metadata": {},
   "source": [
    "## Aside: Namespaces\n",
    "\n",
    "Pandas has been expanding its use of namespaces (or accessors) on `DataFrame` to group together related methods. This also limits the number of methods direclty attached to `DataFrame` itself, which can be overwhelming.\n",
    "\n",
    "Currently, we have these namespaces:\n",
    "\n",
    "- `.str`: defined on `Series` and `Index`es containing strings (object dtype)\n",
    "- `.dt`: defined on `Series` with `datetime` or `timedelta` dtype\n",
    "- `.cat`: defined on `Series` and `Indexes` with `category` dtype\n",
    "- `.plot`: defined on `Series` and `DataFrames`"
   ]
  },
  {
   "cell_type": "markdown",
   "metadata": {},
   "source": [
    "<div class=\"alert alert-success\" data-title=\"Reviews by Hour\">\n",
    "  <h1><i class=\"fa fa-tasks\" aria-hidden=\"true\"></i> Exercise: Reviews by Hour</h1>\n",
    "</div>\n",
    "\n",
    "<p>Make a barplot of the count of reviews by hour of the day.</p>"
   ]
  },
  {
   "cell_type": "markdown",
   "metadata": {},
   "source": [
    "- Hint: Use the `.dt` namespace to get the `hour` component of a `datetime`\n",
    "- Hint: We've seen `Series.value_counts` for getting the count of each value\n",
    "- Hint: Use `.sort_index` to make sure the data is ordered by hour, not count\n",
    "- Hint: Use the [`.plot`](http://pandas.pydata.org/pandas-docs/stable/api.html#plotting) namespace to get a `bar` chart"
   ]
  },
  {
   "cell_type": "code",
   "execution_count": null,
   "metadata": {},
   "outputs": [],
   "source": []
  },
  {
   "cell_type": "code",
   "execution_count": null,
   "metadata": {},
   "outputs": [],
   "source": [
    "%load solutions/groupby_03.py"
   ]
  },
  {
   "cell_type": "markdown",
   "metadata": {},
   "source": [
    "<div class=\"alert alert-success\" data-title=\"Pale Ales\">\n",
    "  <h1><i class=\"fa fa-tasks\" aria-hidden=\"true\"></i> Exercise: Pale Ales</h1>\n",
    "</div>\n",
    "<p>\n",
    "Make a variable `pale_ales` that filters `df` to just rows where `beer_style` contains the string `'pale ale'` (ignoring case)\n",
    "</p>\n",
    "- Hint: Use the `df.beer_style.str` namespace and find a method for checking whether a string contains another string."
   ]
  },
  {
   "cell_type": "code",
   "execution_count": null,
   "metadata": {},
   "outputs": [],
   "source": []
  },
  {
   "cell_type": "code",
   "execution_count": null,
   "metadata": {},
   "outputs": [],
   "source": [
    "%load solutions/groupby_04.py"
   ]
  },
  {
   "cell_type": "markdown",
   "metadata": {},
   "source": [
    "# Groupby"
   ]
  },
  {
   "cell_type": "markdown",
   "metadata": {},
   "source": [
    "Groupby operations come up in a lot of contexts.\n",
    "At its root, groupby about doing an operation on many subsets of the data, each of which shares something in common.\n",
    "The components of a groupby operation are:"
   ]
  },
  {
   "cell_type": "markdown",
   "metadata": {},
   "source": [
    "## Components of a groupby\n",
    "\n",
    "1. **split** a table into groups\n",
    "2. **apply** a function to each group\n",
    "3. **combine** the results into a single DataFrame or Series"
   ]
  },
  {
   "cell_type": "markdown",
   "metadata": {},
   "source": [
    "In pandas the `split` step looks like\n",
    "\n",
    "```python\n",
    "df.groupby( grouper )\n",
    "```\n",
    "\n",
    "`grouper` can be many things\n",
    "\n",
    "- Series (or string indicating a column in `df`)\n",
    "- function (to be applied on the index)\n",
    "- dict : groups by *values*\n",
    "- `levels=[ names of levels in a MultiIndex ]`"
   ]
  },
  {
   "cell_type": "markdown",
   "metadata": {},
   "source": [
    "## Split\n",
    "\n",
    "Break a table into smaller logical tables according to some rule"
   ]
  },
  {
   "cell_type": "code",
   "execution_count": null,
   "metadata": {},
   "outputs": [],
   "source": [
    "gr = df.groupby(\"beer_name\")\n",
    "gr"
   ]
  },
  {
   "cell_type": "markdown",
   "metadata": {},
   "source": [
    "We haven't really done any actual work yet, but pandas knows what it needs to know to break the larger `df` into many smaller pieces, one for each distinct `beer_name`."
   ]
  },
  {
   "cell_type": "markdown",
   "metadata": {},
   "source": [
    "## Apply & Combine\n",
    "\n",
    "To finish the groupby, we apply a method to the groupby object."
   ]
  },
  {
   "cell_type": "code",
   "execution_count": null,
   "metadata": {},
   "outputs": [],
   "source": [
    "review_cols = ['review_appearance', 'review_aroma', 'review_overall',\n",
    "               'review_palate', 'review_taste']\n",
    "\n",
    "df.groupby('beer_name')[review_cols].agg('mean')"
   ]
  },
  {
   "cell_type": "markdown",
   "metadata": {},
   "source": [
    "In this case, the function we applied was `'mean'`.\n",
    "Pandas has implemented cythonized versions of certain common methods like mean, sum, etc.\n",
    "You can also pass in regular functions like `np.mean`.\n",
    "\n",
    "In terms of split, apply, combine, split was `df.groupby('beer_name')`. \n",
    "We apply the `mean` function by passing in `'mean'`.\n",
    "Finally, by using the `.agg` method (for aggregate) we tell pandas to combine the results with one output row per group.\n",
    "\n",
    "You can also pass in regular functions like `np.mean`."
   ]
  },
  {
   "cell_type": "code",
   "execution_count": null,
   "metadata": {},
   "outputs": [],
   "source": [
    "df.groupby('beer_name')[review_cols].agg(np.mean).head()"
   ]
  },
  {
   "cell_type": "markdown",
   "metadata": {},
   "source": [
    "Finally, [certain methods](http://pandas.pydata.org/pandas-docs/stable/api.html#id35) have been attached to `Groupby` objects."
   ]
  },
  {
   "cell_type": "code",
   "execution_count": null,
   "metadata": {},
   "outputs": [],
   "source": [
    "df.groupby('beer_name')[review_cols].mean()"
   ]
  },
  {
   "cell_type": "markdown",
   "metadata": {},
   "source": [
    "<div class=\"alert alert-success\" data-title=\"Highest Variance\">\n",
    "  <h1><i class=\"fa fa-tasks\" aria-hidden=\"true\"></i> Exercise: Highest Variance</h1>\n",
    "</div>\n",
    "\n",
    "<p>Find the `beer_style`s with the greatest variance in `abv`.</p>\n",
    "\n",
    "- hint: `.std` calculates the standard deviation (`.var` for variance), and is available on `GroupBy` objects like `gr.abv`.\n",
    "- hint: use `.sort_values` to sort a Series by the values (it took us a while to come up with that name)"
   ]
  },
  {
   "cell_type": "code",
   "execution_count": 12,
   "metadata": {
    "ExecuteTime": {
     "end_time": "2023-01-04T20:50:35.371688Z",
     "start_time": "2023-01-04T20:50:35.240329Z"
    }
   },
   "outputs": [],
   "source": [
    "test = df.groupby(['beer_style'])['abv'].var().sort_values()\n",
    "test"
   ]
  },
  {
   "cell_type": "code",
   "execution_count": null,
   "metadata": {},
   "outputs": [],
   "source": [
    "%load solutions/groupby_abv.py"
   ]
  },
  {
   "cell_type": "markdown",
   "metadata": {},
   "source": [
    "## `.agg` output shape\n",
    "\n",
    "The output shape is determined by the grouper, data, and aggregation\n",
    "\n",
    "- Grouper: Controls the output index\n",
    "    * single grouper -> Index\n",
    "    * array-like grouper -> MultiIndex\n",
    "- Subject (Groupee): Controls the output data values\n",
    "    * single column -> Series (or DataFrame if multiple aggregations)\n",
    "    * multiple columns -> DataFrame\n",
    "- Aggregation: Controls the output columns\n",
    "    * single aggfunc -> Index in the colums\n",
    "    * multiple aggfuncs -> MultiIndex in the columns (Or 1-D Index if groupee is 1-D)"
   ]
  },
  {
   "cell_type": "markdown",
   "metadata": {},
   "source": [
    "\n",
    "We'll go into MultiIndexes in a bit, but for know, think of them as regular Indexes with multiple levels (columns)."
   ]
  },
  {
   "cell_type": "code",
   "execution_count": null,
   "metadata": {},
   "outputs": [],
   "source": [
    "# single grouper, single groupee, single aggregation\n",
    "df.groupby('beer_style').review_overall.agg('mean')"
   ]
  },
  {
   "cell_type": "code",
   "execution_count": null,
   "metadata": {},
   "outputs": [],
   "source": [
    "# multiple groupers, multiple groupee, single aggregation\n",
    "df.groupby(['brewer_id', 'beer_name'])[review_cols].agg(['mean', 'min', 'max', 'std', 'count'])"
   ]
  },
  {
   "cell_type": "markdown",
   "metadata": {},
   "source": [
    "<div class=\"alert alert-success\" data-title=\"Rating by length\">\n",
    "  <h1><i class=\"fa fa-tasks\" aria-hidden=\"true\"></i> Exercise: Rating by length</h1>\n",
    "</div>\n",
    "\n",
    "<p>Plot the relationship between review length (number of characters) and average `review_overall`.</p>\n",
    "\n",
    "- Hint: use `.plot(style='k.')`\n",
    "- We've grouped by columns so far, you can also group by any series with the same length"
   ]
  },
  {
   "cell_type": "code",
   "execution_count": null,
   "metadata": {},
   "outputs": [],
   "source": []
  },
  {
   "cell_type": "code",
   "execution_count": null,
   "metadata": {},
   "outputs": [],
   "source": [
    "%load solutions/groupby_00.py"
   ]
  },
  {
   "cell_type": "markdown",
   "metadata": {},
   "source": [
    "<div class=\"alert alert-success\" data-title=\"Reviews by Length\">\n",
    "  <h1><i class=\"fa fa-tasks\" aria-hidden=\"true\"></i> Exercise: Reviews by Length</h1>\n",
    "</div>\n",
    "\n",
    "<p>Find the relationship between review length (number of **words** and average `review_overall`.)</p>\n",
    "\n",
    "- Hint: You can pass a [regular expression](https://docs.python.org/3/howto/regex.html#matching-characters) to any of the `.str` methods."
   ]
  },
  {
   "cell_type": "code",
   "execution_count": null,
   "metadata": {},
   "outputs": [],
   "source": []
  },
  {
   "cell_type": "code",
   "execution_count": null,
   "metadata": {},
   "outputs": [],
   "source": [
    "%load solutions/groupby_00b.py"
   ]
  },
  {
   "cell_type": "markdown",
   "metadata": {},
   "source": [
    "<div class=\"alert alert-success\" data-title=\"Rating by number of Reviews\">\n",
    "  <h1><i class=\"fa fa-tasks\" aria-hidden=\"true\"></i> Exercise: Rating by number of Reviews</h1>\n",
    "</div>\n",
    "\n",
    "<p>Find the relationship between the number of reviews for a beer and the average `review_overall`.</p>\n"
   ]
  },
  {
   "cell_type": "code",
   "execution_count": null,
   "metadata": {},
   "outputs": [],
   "source": []
  },
  {
   "cell_type": "code",
   "execution_count": null,
   "metadata": {},
   "outputs": [],
   "source": [
    "%load solutions/groupby_01.py"
   ]
  },
  {
   "cell_type": "markdown",
   "metadata": {},
   "source": [
    "## Transform\n",
    "\n",
    "A *transform* is a function whose output is the same shape as the input."
   ]
  },
  {
   "cell_type": "markdown",
   "metadata": {},
   "source": [
    "Recall that a groupby has three steps: split, apply, combine.\n",
    "So far, all of the functions we've applied have been *aggregations*: the rule for \"combine\" is one row per group.\n",
    "\n",
    "You can use `Groupby.transform` when you have an operation that should be done *groupwise*, but the result should be the same shape.\n",
    "For example, suppose we wanted to normalize each reviewer's scores by their average score. "
   ]
  },
  {
   "cell_type": "code",
   "execution_count": null,
   "metadata": {},
   "outputs": [],
   "source": [
    "# Define demean(v: array) -> array\n",
    "def demean(v):\n",
    "    return v - v.mean()"
   ]
  },
  {
   "cell_type": "markdown",
   "metadata": {},
   "source": [
    "Just calling `demean` on the entire Series will normalize by the *global* average."
   ]
  },
  {
   "cell_type": "code",
   "execution_count": null,
   "metadata": {},
   "outputs": [],
   "source": [
    "demean(df.review_overall)"
   ]
  },
  {
   "cell_type": "markdown",
   "metadata": {},
   "source": [
    "Now, let's demean each individual's reviews by their own average.\n",
    "This could be useful if, for example, you were building a recommendation system.\n",
    "A rating of 4 from someone's whose average is 2 is in some sense more meaningful that a 4 from someone who always gives 4s."
   ]
  },
  {
   "cell_type": "code",
   "execution_count": null,
   "metadata": {},
   "outputs": [],
   "source": [
    "normalized = df.groupby(\"profile_name\")[review_cols].transform(demean)\n",
    "normalized.head()"
   ]
  },
  {
   "cell_type": "markdown",
   "metadata": {},
   "source": [
    "We used `.transform` because the desired output was the same shape as the input.\n",
    "Just like `.agg` informs pandas that you want `1 input group → 1 output row`, the `.transform` method informs pandas that you want `1 input row → 1 output row`.\n",
    "\n",
    "`.transform` operates on each column independently."
   ]
  },
  {
   "cell_type": "markdown",
   "metadata": {},
   "source": [
    "<div class=\"alert alert-success\" data-title=\"Personal Trend?\">\n",
    "  <h1><i class=\"fa fa-tasks\" aria-hidden=\"true\"></i> Exercise: Personal Trend?</h1>\n",
    "</div>\n",
    "\n",
    "<p>Do reviewer's `review_overall` trend over a person's time reviewing?</p>\n",
    "\n",
    "Hint: Need an indictor that tracks which review this is for that person. That is, we need a cumulative count of reviews per person."
   ]
  },
  {
   "cell_type": "code",
   "execution_count": null,
   "metadata": {},
   "outputs": [],
   "source": []
  },
  {
   "cell_type": "code",
   "execution_count": null,
   "metadata": {},
   "outputs": [],
   "source": [
    "%load solutions/groupby_02.py"
   ]
  },
  {
   "cell_type": "markdown",
   "metadata": {},
   "source": [
    "## General `.apply`\n",
    "\n",
    "We've seen `.agg` for outputting 1 row per group, and `.transform` for outputting 1 row per input row.\n",
    "\n",
    "The final kind of function application is `.apply`.\n",
    "This can do pretty much whatever you want.\n",
    "We'll see an example in a later notebook."
   ]
  },
  {
   "cell_type": "markdown",
   "metadata": {},
   "source": [
    "## Summary\n",
    "\n",
    "- We used groupby to analyze data by subsets\n",
    "- We used `agg` to summarize groups and `transform` to perform group-wise transformations"
   ]
  }
 ],
 "metadata": {
  "kernelspec": {
   "display_name": "Python 3",
   "language": "python",
   "name": "python3"
  },
  "language_info": {
   "codemirror_mode": {
    "name": "ipython",
    "version": 3
   },
   "file_extension": ".py",
   "mimetype": "text/x-python",
   "name": "python",
   "nbconvert_exporter": "python",
   "pygments_lexer": "ipython3",
   "version": "3.8.5"
  }
 },
 "nbformat": 4,
 "nbformat_minor": 1
}
